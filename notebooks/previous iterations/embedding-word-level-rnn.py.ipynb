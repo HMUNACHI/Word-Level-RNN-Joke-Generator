{
 "cells": [
  {
   "cell_type": "code",
   "execution_count": 1,
   "metadata": {},
   "outputs": [
    {
     "name": "stderr",
     "output_type": "stream",
     "text": [
      "Using TensorFlow backend.\n"
     ]
    }
   ],
   "source": [
    "import numpy as np\n",
    "import keras\n",
    "from keras import layers\n",
    "import string\n",
    "import random\n",
    "import sys\n",
    "from utils import log, generate_overlapping_sequences, load_short_jokes_corpus"
   ]
  },
  {
   "cell_type": "code",
   "execution_count": 2,
   "metadata": {},
   "outputs": [],
   "source": [
    "def sample(preds, temperature=1.0):\n",
    "    preds = np.asarray(preds.astype('float64'))\n",
    "    preds = np.log(preds) / temperature\n",
    "    exp_preds = np.exp(preds)\n",
    "    preds = exp_preds / np.sum(exp_preds)\n",
    "    probas = np.random.multinomial(1, preds, 1)\n",
    "    return np.argmax(probas)\n"
   ]
  },
  {
   "cell_type": "code",
   "execution_count": 3,
   "metadata": {},
   "outputs": [
    {
     "name": "stdout",
     "output_type": "stream",
     "text": [
      "Corpus Length: 93099\n"
     ]
    }
   ],
   "source": [
    "jokes, text = load_short_jokes_corpus(limit=1000)\n",
    "print 'Corpus Length: {c}'.format(c=len(text))"
   ]
  },
  {
   "cell_type": "code",
   "execution_count": 4,
   "metadata": {},
   "outputs": [
    {
     "name": "stdout",
     "output_type": "stream",
     "text": [
      "('Vocab Size', 3990)\n"
     ]
    }
   ],
   "source": [
    "from keras.preprocessing.text import Tokenizer\n",
    "from keras.preprocessing.sequence import pad_sequences\n",
    "\n",
    "tokenizer = Tokenizer()\n",
    "tokenizer.fit_on_texts(jokes)\n",
    "vocab_size = len(tokenizer.word_index) + 1\n",
    "\n",
    "print('Vocab Size', vocab_size)"
   ]
  },
  {
   "cell_type": "code",
   "execution_count": 21,
   "metadata": {},
   "outputs": [],
   "source": [
    "integer_encoded_docs = tokenizer.texts_to_sequences(jokes)\n",
    "split_encoded_docs = []\n",
    "next_words = []\n",
    "for i, joke in enumerate(integer_encoded_docs):\n",
    "    if joke:\n",
    "        split_encoded_docs.append(joke[:-1])\n",
    "        next_words.append(joke[-1])\n",
    "padded_docs = pad_sequences(split_encoded_docs, padding='pre')\n",
    "# need to get next word for each of these "
   ]
  },
  {
   "cell_type": "code",
   "execution_count": 22,
   "metadata": {},
   "outputs": [
    {
     "name": "stdout",
     "output_type": "stream",
     "text": [
      "39\n",
      "(1000,)\n"
     ]
    }
   ],
   "source": [
    "print padded_docs.shape[1]\n",
    "next_words = np.asarray(next_words)\n",
    "print next_words.shape"
   ]
  },
  {
   "cell_type": "code",
   "execution_count": 23,
   "metadata": {},
   "outputs": [
    {
     "name": "stdout",
     "output_type": "stream",
     "text": [
      "Vectorization.\n"
     ]
    }
   ],
   "source": [
    "print 'Vectorization.'\n",
    "y = np.zeros((len(padded_docs), vocab_size), dtype=np.bool)\n",
    "for i, padded_doc in enumerate(padded_docs):\n",
    "    y[i, next_words[i]] = 1"
   ]
  },
  {
   "cell_type": "code",
   "execution_count": 24,
   "metadata": {},
   "outputs": [],
   "source": [
    "from keras.models import Sequential\n",
    "from keras.layers import Dense, Flatten, LSTM, Bidirectional\n",
    "from keras.optimizers import RMSprop\n",
    "from keras.layers.embeddings import Embedding"
   ]
  },
  {
   "cell_type": "code",
   "execution_count": 25,
   "metadata": {},
   "outputs": [
    {
     "name": "stdout",
     "output_type": "stream",
     "text": [
      "_________________________________________________________________\n",
      "Layer (type)                 Output Shape              Param #   \n",
      "=================================================================\n",
      "embedding_3 (Embedding)      (None, 39, 256)           1021440   \n",
      "_________________________________________________________________\n",
      "bidirectional_5 (Bidirection (None, 39, 512)           1050624   \n",
      "_________________________________________________________________\n",
      "bidirectional_6 (Bidirection (None, 512)               1574912   \n",
      "_________________________________________________________________\n",
      "dense_3 (Dense)              (None, 3990)              2046870   \n",
      "=================================================================\n",
      "Total params: 5,693,846\n",
      "Trainable params: 5,693,846\n",
      "Non-trainable params: 0\n",
      "_________________________________________________________________\n",
      "None\n"
     ]
    }
   ],
   "source": [
    "model = Sequential()\n",
    "model.add(Embedding(vocab_size, 256, input_length=padded_docs.shape[1]))\n",
    "model.add(Bidirectional(LSTM(256, dropout=0.2, recurrent_dropout=0.2, return_sequences=True)))\n",
    "model.add(Bidirectional(LSTM(256)))\n",
    "\n",
    "model.add(Dense(vocab_size, activation='softmax'))\n",
    "optimizer = RMSprop(lr=0.01)\n",
    "model.compile(loss='categorical_crossentropy', optimizer=optimizer)\n",
    "print model.summary()"
   ]
  },
  {
   "cell_type": "code",
   "execution_count": 88,
   "metadata": {},
   "outputs": [],
   "source": [
    "word_index = tokenizer.word_index\n",
    "index_to_word = dict((index, word) for word, index in word_index.items())\n",
    "max_words = 5"
   ]
  },
  {
   "cell_type": "code",
   "execution_count": 89,
   "metadata": {},
   "outputs": [
    {
     "name": "stdout",
     "output_type": "stream",
     "text": [
      "Epoch 1/1\n",
      "1000/1000 [==============================] - 29s 29ms/step - loss: 9.4349\n"
     ]
    },
    {
     "data": {
      "text/plain": [
       "<keras.callbacks.History at 0x115851450>"
      ]
     },
     "execution_count": 89,
     "metadata": {},
     "output_type": "execute_result"
    }
   ],
   "source": [
    "model.fit(padded_docs, y, batch_size=1000, nb_epoch=1) \n"
   ]
  },
  {
   "cell_type": "code",
   "execution_count": 91,
   "metadata": {},
   "outputs": [
    {
     "name": "stdout",
     "output_type": "stream",
     "text": [
      "Epoch: 0\n",
      "-----  Generating with Seed: \"or alive i would choose\"\n",
      "\n",
      "\n",
      "\n",
      "------------ temperature: 0.1\n",
      " homes homes homes homes homes\n",
      "------------ temperature: 0.2\n",
      " downstairs' homes rest together homes\n",
      "------------ temperature: 0.5\n",
      " byrne one out blood you\n",
      "------------ temperature: 1.0\n",
      " essay high sure one idaho\n",
      "------------ temperature: 1.2\n",
      " in replies shkreli is sure"
     ]
    }
   ],
   "source": [
    "for i in range(1):\n",
    "    print 'Epoch: {i}'.format(i=i)\n",
    "    # greedy\n",
    "    start_index = random.randint(0, len(text.split(' ')) - max_words - 1)\n",
    "    generated_text = \" \".join(text.split(' ')[start_index: start_index + max_words])\n",
    "    integer_encoded_gen_text = tokenizer.texts_to_sequences([generated_text])\n",
    "    readable_gen_text = \" \".join(map(lambda key: index_to_word[key], integer_encoded_gen_text[0]))\n",
    "    print  '-----  Generating with Seed: \"{gen}\"'.format(gen=readable_gen_text)\n",
    "    print '\\n'\n",
    "    for temperature in [0.1, 0.2, 0.5, 1.0, 1.2]:\n",
    "        print '\\n------------ temperature: {t}'.format(t=temperature)\n",
    "        for i in range(5):\n",
    "            integer_encoded_gen_text = tokenizer.texts_to_sequences([generated_text])\n",
    "            readable_gen_text = \" \".join(map(lambda key: index_to_word[key], integer_encoded_gen_text[0]))\n",
    "            padded_gen_text = pad_sequences(integer_encoded_gen_text, maxlen=maxlen, padding='pre')\n",
    "            preds = model.predict(padded_gen_text, verbose=0)[0]\n",
    "\n",
    "            next_index = sample(preds, temperature)\n",
    "            most_probable_next_word = index_to_word[next_index]\n",
    "            generated_text += \" \" + most_probable_next_word\n",
    "            generated_text = \" \".join(generated_text.split(' ')[1:])\n",
    "            sys.stdout.write(\" \" + most_probable_next_word)\n",
    "    #         print generated_text\n",
    "\n",
    "    \n",
    "\n",
    "        "
   ]
  },
  {
   "cell_type": "code",
   "execution_count": 71,
   "metadata": {},
   "outputs": [
    {
     "data": {
      "text/plain": [
       "[[804, 57, 57, 407, 407]]"
      ]
     },
     "execution_count": 71,
     "metadata": {},
     "output_type": "execute_result"
    }
   ],
   "source": [
    "integer_encoded_gen_text"
   ]
  },
  {
   "cell_type": "code",
   "execution_count": 72,
   "metadata": {},
   "outputs": [
    {
     "data": {
      "text/plain": [
       "'out out again again again'"
      ]
     },
     "execution_count": 72,
     "metadata": {},
     "output_type": "execute_result"
    }
   ],
   "source": [
    "generated_text"
   ]
  },
  {
   "cell_type": "code",
   "execution_count": 73,
   "metadata": {},
   "outputs": [
    {
     "data": {
      "text/plain": [
       "[[57, 57, 407, 407, 407]]"
      ]
     },
     "execution_count": 73,
     "metadata": {},
     "output_type": "execute_result"
    }
   ],
   "source": [
    "tokenizer.texts_to_sequences([generated_text])"
   ]
  },
  {
   "cell_type": "code",
   "execution_count": 92,
   "metadata": {},
   "outputs": [
    {
     "data": {
      "text/plain": [
       "39"
      ]
     },
     "execution_count": 92,
     "metadata": {},
     "output_type": "execute_result"
    }
   ],
   "source": [
    "maxlen\n"
   ]
  },
  {
   "cell_type": "code",
   "execution_count": null,
   "metadata": {},
   "outputs": [],
   "source": []
  }
 ],
 "metadata": {
  "kernelspec": {
   "display_name": "Python 2",
   "language": "python",
   "name": "python2"
  },
  "language_info": {
   "codemirror_mode": {
    "name": "ipython",
    "version": 2
   },
   "file_extension": ".py",
   "mimetype": "text/x-python",
   "name": "python",
   "nbconvert_exporter": "python",
   "pygments_lexer": "ipython2",
   "version": "2.7.10"
  }
 },
 "nbformat": 4,
 "nbformat_minor": 2
}
